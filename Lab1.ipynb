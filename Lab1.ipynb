{
 "cells": [
  {
   "cell_type": "markdown",
   "id": "fifteen-sailing",
   "metadata": {
    "id": "fifteen-sailing"
   },
   "source": [
    "# Лабораторная работа №1\n",
    "## Выполнил студент группы БПИ2303 Унру Денис Вальеревич"
   ]
  },
  {
   "cell_type": "markdown",
   "id": "particular-syndicate",
   "metadata": {
    "id": "particular-syndicate"
   },
   "source": [
    "### Оглавление\n",
    "1. [Задание 1](#Задание-№1)\n",
    "2. [Задание 2](#Задание-№2)\n",
    "3. [Задание 3](#Задание-№3)\n",
    "4. [Вывод](#Вывод)"
   ]
  },
  {
   "cell_type": "markdown",
   "id": "arctic-stocks",
   "metadata": {
    "id": "arctic-stocks"
   },
   "source": [
    "### Задание №1\n",
    "<i> Вызвать функцию print() и передать туда строку Hello, World! </i>"
   ]
  },
  {
   "cell_type": "code",
   "execution_count": 14,
   "id": "caring-truck",
   "metadata": {
    "id": "caring-truck",
    "scrolled": true
   },
   "outputs": [
    {
     "name": "stdout",
     "output_type": "stream",
     "text": [
      "Hello, World!\n"
     ]
    }
   ],
   "source": [
    "print('Hello, World!')"
   ]
  },
  {
   "cell_type": "markdown",
   "id": "maritime-conversation",
   "metadata": {
    "id": "maritime-conversation"
   },
   "source": [
    "### Задание №2\n",
    "Написать генератор случайных матриц(многомерных), который принимает\n",
    "опциональные параметры <b>m</b>, <b>n</b>, <b>min_limit</b>, <b>max_limit</b>, где <b>m</b> и <b>n</b> указывают размер\n",
    "матрицы, а <b>min_lim</b> и <b>max_lim</b> - минимальное и максимальное значение для\n",
    "генерируемого числа."
   ]
  },
  {
   "cell_type": "code",
   "execution_count": 16,
   "id": "built-contact",
   "metadata": {
    "id": "built-contact"
   },
   "outputs": [
    {
     "name": "stdout",
     "output_type": "stream",
     "text": [
      "\n",
      "Время выполнения сортировок:\n",
      "Selection Sort: 1.012326 секунд\n",
      "Insertion Sort: 0.983560 секунд\n",
      "Bubble Sort: 2.417629 секунд\n",
      "Shell Sort: 0.075626 секунд\n",
      "Tournament Sort: 0.135086 секунд\n",
      "Quick Sort: 0.059004 секунд\n",
      "Python Sort: 0.007009 секунд\n"
     ]
    }
   ],
   "source": [
    "import random\n",
    "import time\n",
    "\n",
    "# Генерация случайной матрицы\n",
    "def generate_random_matrix(m, n, min_limit, max_limit):\n",
    "    \n",
    "    return [[random.randint(min_limit, max_limit) for _ in range(n)] for _ in range(m)]\n",
    "\n",
    "# Сортировка выбором\n",
    "def selection_sort(row):\n",
    "    for i in range(len(row)):\n",
    "        min_idx = i\n",
    "        for j in range(i + 1, len(row)):\n",
    "            if row[j] < row[min_idx]:\n",
    "                min_idx = j\n",
    "        row[i], row[min_idx] = row[min_idx], row[i]\n",
    "    return row\n",
    "\n",
    "# Сортировка вставкой\n",
    "def insertion_sort(row):\n",
    "    for i in range(1, len(row)):\n",
    "        key = row[i]\n",
    "        j = i - 1\n",
    "        while j >= 0 and row[j] > key:\n",
    "            row[j + 1] = row[j]\n",
    "            j -= 1\n",
    "        row[j + 1] = key\n",
    "    return row\n",
    "\n",
    "# Сортировка обменом (пузырьком)\n",
    "def bubble_sort(row):\n",
    "    n = len(row)\n",
    "    for i in range(n):\n",
    "        for j in range(0, n - i - 1):\n",
    "            if row[j] > row[j + 1]:\n",
    "                row[j], row[j + 1] = row[j + 1], row[j]\n",
    "    return row\n",
    "\n",
    "# Сортировка Шелла\n",
    "def shell_sort(row):\n",
    "    n = len(row)\n",
    "    gap = n // 2\n",
    "    while gap > 0:\n",
    "        for i in range(gap, n):\n",
    "            temp = row[i]\n",
    "            j = i\n",
    "            while j >= gap and row[j - gap] > temp:\n",
    "                row[j] = row[j - gap]\n",
    "                j -= gap\n",
    "            row[j] = temp\n",
    "        gap //= 2\n",
    "    return row\n",
    "\n",
    "# Турнирная сортировка\n",
    "def tournament_sort(row):\n",
    "    def heapify(arr, n, i):\n",
    "        largest = i\n",
    "        left = 2 * i + 1\n",
    "        right = 2 * i + 2\n",
    "\n",
    "        if left < n and arr[left] > arr[largest]:\n",
    "            largest = left\n",
    "\n",
    "        if right < n and arr[right] > arr[largest]:\n",
    "            largest = right\n",
    "\n",
    "        if largest != i:\n",
    "            arr[i], arr[largest] = arr[largest], arr[i]\n",
    "            heapify(arr, n, largest)\n",
    "\n",
    "    n = len(row)\n",
    "    for i in range(n // 2 - 1, -1, -1):\n",
    "        heapify(row, n, i)\n",
    "\n",
    "    for i in range(n - 1, 0, -1):\n",
    "        row[i], row[0] = row[0], row[i]\n",
    "        heapify(row, i, 0)\n",
    "    return row\n",
    "\n",
    "# Быстрая сортировка\n",
    "def quick_sort(row):\n",
    "    if len(row) <= 1:\n",
    "        return row\n",
    "    else:\n",
    "        pivot = row[len(row) // 2]\n",
    "        less = [x for x in row if x < pivot]\n",
    "        equal = [x for x in row if x == pivot]\n",
    "        greater = [x for x in row if x > pivot]\n",
    "        return quick_sort(less) + equal + quick_sort(greater)\n",
    "\n",
    "# Стандартная сортировка Python\n",
    "def python_sort(row):\n",
    "    return sorted(row)\n",
    "\n",
    "# Тестирование времени выполнения\n",
    "def test_sorting_algorithms(matrix):\n",
    "    algorithms = {\n",
    "        \"Selection Sort\": selection_sort,\n",
    "        \"Insertion Sort\": insertion_sort,\n",
    "        \"Bubble Sort\": bubble_sort,\n",
    "        \"Shell Sort\": shell_sort,\n",
    "        \"Tournament Sort\": tournament_sort,\n",
    "        \"Quick Sort\": quick_sort,\n",
    "        \"Python Sort\": python_sort\n",
    "    }\n",
    "\n",
    "    results = {}\n",
    "\n",
    "    for name, algorithm in algorithms.items():\n",
    "        matrix_copy = [row[:] for row in matrix]  # Создаем копию матрицы для каждой сортировки\n",
    "        start_time = time.time()\n",
    "        for row in matrix_copy:\n",
    "            algorithm(row)\n",
    "        end_time = time.time()\n",
    "        results[name] = end_time - start_time\n",
    "\n",
    "    return results\n",
    "\n",
    "# Основная часть программы\n",
    "if __name__ == \"__main__\":\n",
    "    # Задание параметров матрицы\n",
    "    m = int(input(\"Введите количество строк (m): \"))\n",
    "    n = int(input(\"Введите количество столбцов (n): \"))\n",
    "    min_limit = int(input(\"Введите минимальное значение элементов: \"))\n",
    "    max_limit = int(input(\"Введите максимальное значение элементов: \"))\n",
    "\n",
    "    # Генерация матрицы\n",
    "    matrix = generate_random_matrix(m, n, min_limit, max_limit)\n",
    "\n",
    "    # Тестирование алгоритмов сортировки\n",
    "    timing_results = test_sorting_algorithms(matrix)\n",
    "\n",
    "    # Вывод результатов\n",
    "    print(\"\\nВремя выполнения сортировок:\")\n",
    "    for name, time_taken in timing_results.items():\n",
    "        print(f\"{name}: {time_taken:.6f} секунд\")"
   ]
  },
  {
   "cell_type": "markdown",
   "id": "rental-jerusalem",
   "metadata": {
    "id": "rental-jerusalem"
   },
   "source": [
    "### Вывод\n"
   ]
  },
  {
   "cell_type": "markdown",
   "id": "9d108a0a",
   "metadata": {
    "id": "9d108a0a"
   },
   "source": []
  }
 ],
 "metadata": {
  "colab": {
   "provenance": []
  },
  "kernelspec": {
   "display_name": "Python 3",
   "language": "python",
   "name": "python3"
  },
  "language_info": {
   "codemirror_mode": {
    "name": "ipython",
    "version": 3
   },
   "file_extension": ".py",
   "mimetype": "text/x-python",
   "name": "python",
   "nbconvert_exporter": "python",
   "pygments_lexer": "ipython3",
   "version": "3.11.9"
  }
 },
 "nbformat": 4,
 "nbformat_minor": 5
}
